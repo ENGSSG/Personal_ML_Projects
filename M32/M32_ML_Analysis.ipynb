{
 "cells": [
  {
   "attachments": {},
   "cell_type": "markdown",
   "metadata": {},
   "source": [
    "# M32 ML Analysis"
   ]
  },
  {
   "attachments": {},
   "cell_type": "markdown",
   "metadata": {},
   "source": [
    "## 1. Load Necessary Tool"
   ]
  },
  {
   "cell_type": "code",
   "execution_count": 1,
   "metadata": {},
   "outputs": [
    {
     "name": "stdout",
     "output_type": "stream",
     "text": [
      "Requirement already satisfied: wheel in c:\\users\\hyunseok.kim\\appdata\\local\\programs\\python\\python311\\lib\\site-packages (0.40.0)\n",
      "Requirement already satisfied: numpy in c:\\users\\hyunseok.kim\\appdata\\local\\programs\\python\\python311\\lib\\site-packages (1.24.3)\n",
      "Requirement already satisfied: pandas in c:\\users\\hyunseok.kim\\appdata\\local\\programs\\python\\python311\\lib\\site-packages (2.0.1)\n",
      "Requirement already satisfied: python-dateutil>=2.8.2 in c:\\users\\hyunseok.kim\\appdata\\roaming\\python\\python311\\site-packages (from pandas) (2.8.2)\n",
      "Requirement already satisfied: pytz>=2020.1 in c:\\users\\hyunseok.kim\\appdata\\local\\programs\\python\\python311\\lib\\site-packages (from pandas) (2023.3)\n",
      "Requirement already satisfied: tzdata>=2022.1 in c:\\users\\hyunseok.kim\\appdata\\local\\programs\\python\\python311\\lib\\site-packages (from pandas) (2023.3)\n",
      "Requirement already satisfied: numpy>=1.21.0 in c:\\users\\hyunseok.kim\\appdata\\local\\programs\\python\\python311\\lib\\site-packages (from pandas) (1.24.3)\n",
      "Requirement already satisfied: six>=1.5 in c:\\users\\hyunseok.kim\\appdata\\roaming\\python\\python311\\site-packages (from python-dateutil>=2.8.2->pandas) (1.16.0)\n"
     ]
    }
   ],
   "source": [
    "import sys\n",
    "!{sys.executable} -m pip install wheel\n",
    "!{sys.executable} -m pip install numpy\n",
    "!{sys.executable} -m pip install pandas"
   ]
  },
  {
   "cell_type": "code",
   "execution_count": 2,
   "metadata": {},
   "outputs": [],
   "source": [
    "import pandas as pd"
   ]
  },
  {
   "attachments": {},
   "cell_type": "markdown",
   "metadata": {},
   "source": [
    "Selected 2022 data of M32 junctions 1 and 2\n"
   ]
  },
  {
   "cell_type": "code",
   "execution_count": 18,
   "metadata": {},
   "outputs": [
    {
     "data": {
      "text/html": [
       "<div>\n",
       "<style scoped>\n",
       "    .dataframe tbody tr th:only-of-type {\n",
       "        vertical-align: middle;\n",
       "    }\n",
       "\n",
       "    .dataframe tbody tr th {\n",
       "        vertical-align: top;\n",
       "    }\n",
       "\n",
       "    .dataframe thead th {\n",
       "        text-align: right;\n",
       "    }\n",
       "</style>\n",
       "<table border=\"1\" class=\"dataframe\">\n",
       "  <thead>\n",
       "    <tr style=\"text-align: right;\">\n",
       "      <th></th>\n",
       "      <th>Local Date</th>\n",
       "      <th>Local Time</th>\n",
       "      <th>Day Type ID</th>\n",
       "      <th>Total Carriageway Flow</th>\n",
       "      <th>Total Flow vehicles less than 5.2m</th>\n",
       "      <th>Total Flow vehicles 5.21m - 6.6m</th>\n",
       "      <th>Total Flow vehicles 6.61m - 11.6m</th>\n",
       "      <th>Total Flow vehicles above 11.6m</th>\n",
       "      <th>Speed Value</th>\n",
       "      <th>Quality Index</th>\n",
       "      <th>Network Link Id</th>\n",
       "      <th>NTIS Model Version</th>\n",
       "    </tr>\n",
       "  </thead>\n",
       "  <tbody>\n",
       "    <tr>\n",
       "      <th>0</th>\n",
       "      <td>2022-09-01</td>\n",
       "      <td>00:14:00</td>\n",
       "      <td>11</td>\n",
       "      <td>71.0</td>\n",
       "      <td>42.0</td>\n",
       "      <td>14.0</td>\n",
       "      <td>6.0</td>\n",
       "      <td>9.0</td>\n",
       "      <td>103.85</td>\n",
       "      <td>15</td>\n",
       "      <td>200044286</td>\n",
       "      <td>16</td>\n",
       "    </tr>\n",
       "    <tr>\n",
       "      <th>1</th>\n",
       "      <td>2022-09-01</td>\n",
       "      <td>00:29:00</td>\n",
       "      <td>11</td>\n",
       "      <td>74.0</td>\n",
       "      <td>53.0</td>\n",
       "      <td>8.0</td>\n",
       "      <td>4.0</td>\n",
       "      <td>9.0</td>\n",
       "      <td>103.25</td>\n",
       "      <td>15</td>\n",
       "      <td>200044286</td>\n",
       "      <td>16</td>\n",
       "    </tr>\n",
       "    <tr>\n",
       "      <th>2</th>\n",
       "      <td>2022-09-01</td>\n",
       "      <td>00:44:00</td>\n",
       "      <td>11</td>\n",
       "      <td>82.0</td>\n",
       "      <td>58.0</td>\n",
       "      <td>8.0</td>\n",
       "      <td>8.0</td>\n",
       "      <td>8.0</td>\n",
       "      <td>103.08</td>\n",
       "      <td>15</td>\n",
       "      <td>200044286</td>\n",
       "      <td>16</td>\n",
       "    </tr>\n",
       "    <tr>\n",
       "      <th>3</th>\n",
       "      <td>2022-09-01</td>\n",
       "      <td>00:59:00</td>\n",
       "      <td>11</td>\n",
       "      <td>57.0</td>\n",
       "      <td>40.0</td>\n",
       "      <td>6.0</td>\n",
       "      <td>4.0</td>\n",
       "      <td>7.0</td>\n",
       "      <td>101.20</td>\n",
       "      <td>15</td>\n",
       "      <td>200044286</td>\n",
       "      <td>16</td>\n",
       "    </tr>\n",
       "    <tr>\n",
       "      <th>4</th>\n",
       "      <td>2022-09-01</td>\n",
       "      <td>01:14:00</td>\n",
       "      <td>0</td>\n",
       "      <td>50.0</td>\n",
       "      <td>33.0</td>\n",
       "      <td>3.0</td>\n",
       "      <td>3.0</td>\n",
       "      <td>11.0</td>\n",
       "      <td>102.44</td>\n",
       "      <td>15</td>\n",
       "      <td>200044286</td>\n",
       "      <td>16</td>\n",
       "    </tr>\n",
       "  </tbody>\n",
       "</table>\n",
       "</div>"
      ],
      "text/plain": [
       "   Local Date  Local Time   Day Type ID   Total Carriageway Flow   \n",
       "0  2022-09-01    00:14:00            11                     71.0  \\\n",
       "1  2022-09-01    00:29:00            11                     74.0   \n",
       "2  2022-09-01    00:44:00            11                     82.0   \n",
       "3  2022-09-01    00:59:00            11                     57.0   \n",
       "4  2022-09-01    01:14:00             0                     50.0   \n",
       "\n",
       "    Total Flow vehicles less than 5.2m   Total Flow vehicles 5.21m - 6.6m   \n",
       "0                                 42.0                               14.0  \\\n",
       "1                                 53.0                                8.0   \n",
       "2                                 58.0                                8.0   \n",
       "3                                 40.0                                6.0   \n",
       "4                                 33.0                                3.0   \n",
       "\n",
       "    Total Flow vehicles 6.61m - 11.6m   Total Flow vehicles above 11.6m   \n",
       "0                                 6.0                               9.0  \\\n",
       "1                                 4.0                               9.0   \n",
       "2                                 8.0                               8.0   \n",
       "3                                 4.0                               7.0   \n",
       "4                                 3.0                              11.0   \n",
       "\n",
       "    Speed Value   Quality Index   Network Link Id   NTIS Model Version  \n",
       "0        103.85              15         200044286                   16  \n",
       "1        103.25              15         200044286                   16  \n",
       "2        103.08              15         200044286                   16  \n",
       "3        101.20              15         200044286                   16  \n",
       "4        102.44              15         200044286                   16  "
      ]
     },
     "execution_count": 18,
     "metadata": {},
     "output_type": "execute_result"
    }
   ],
   "source": [
    "csv_file=\"MIDAS Site -  1154 at M32 southbound between J1 and J2 (200044286).csv\"\n",
    "df=pd.read_csv(csv_file,skiprows=3)\n",
    "df.head()"
   ]
  },
  {
   "cell_type": "code",
   "execution_count": null,
   "metadata": {},
   "outputs": [],
   "source": []
  }
 ],
 "metadata": {
  "kernelspec": {
   "display_name": "Python 3",
   "language": "python",
   "name": "python3"
  },
  "language_info": {
   "codemirror_mode": {
    "name": "ipython",
    "version": 3
   },
   "file_extension": ".py",
   "mimetype": "text/x-python",
   "name": "python",
   "nbconvert_exporter": "python",
   "pygments_lexer": "ipython3",
   "version": "3.11.3"
  },
  "orig_nbformat": 4
 },
 "nbformat": 4,
 "nbformat_minor": 2
}
