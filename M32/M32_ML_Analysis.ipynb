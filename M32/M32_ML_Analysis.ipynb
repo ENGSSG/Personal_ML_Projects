{
 "cells": [
  {
   "attachments": {},
   "cell_type": "markdown",
   "metadata": {},
   "source": [
    "# M32 ML Analysis"
   ]
  },
  {
   "attachments": {},
   "cell_type": "markdown",
   "metadata": {},
   "source": [
    "## 1. Load Necessary Tool"
   ]
  },
  {
   "cell_type": "code",
   "execution_count": 2,
   "metadata": {},
   "outputs": [
    {
     "name": "stderr",
     "output_type": "stream",
     "text": [
      "C:\\Users\\vampi\\AppData\\Local\\Microsoft\\WindowsApps\\PythonSoftwareFoundation.Python.3.11_qbz5n2kfra8p0\\python.exe: No module named pip3\n"
     ]
    }
   ],
   "source": [
    "import sys\n",
    "!{sys.executable} -m pip3 install numpy"
   ]
  },
  {
   "cell_type": "code",
   "execution_count": 3,
   "metadata": {},
   "outputs": [],
   "source": [
    "import pandas as pd"
   ]
  },
  {
   "cell_type": "code",
   "execution_count": 4,
   "metadata": {},
   "outputs": [
    {
     "data": {
      "text/html": [
       "<div>\n",
       "<style scoped>\n",
       "    .dataframe tbody tr th:only-of-type {\n",
       "        vertical-align: middle;\n",
       "    }\n",
       "\n",
       "    .dataframe tbody tr th {\n",
       "        vertical-align: top;\n",
       "    }\n",
       "\n",
       "    .dataframe thead th {\n",
       "        text-align: right;\n",
       "    }\n",
       "</style>\n",
       "<table border=\"1\" class=\"dataframe\">\n",
       "  <thead>\n",
       "    <tr style=\"text-align: right;\">\n",
       "      <th></th>\n",
       "      <th>MeasurementSiteName</th>\n",
       "      <th>MeasurementSiteID</th>\n",
       "      <th>LegacyMeasurementSiteID</th>\n",
       "    </tr>\n",
       "  </thead>\n",
       "  <tbody>\n",
       "    <tr>\n",
       "      <th>242</th>\n",
       "      <td>M32 southbound within J1</td>\n",
       "      <td>243</td>\n",
       "      <td>30028797</td>\n",
       "    </tr>\n",
       "    <tr>\n",
       "      <th>616</th>\n",
       "      <td>M32 northbound between J1 and M4</td>\n",
       "      <td>616</td>\n",
       "      <td>30027526</td>\n",
       "    </tr>\n",
       "    <tr>\n",
       "      <th>834</th>\n",
       "      <td>M32 J1 southbound access</td>\n",
       "      <td>834</td>\n",
       "      <td>30028799</td>\n",
       "    </tr>\n",
       "    <tr>\n",
       "      <th>1154</th>\n",
       "      <td>M32 southbound between J1 and J2</td>\n",
       "      <td>1154</td>\n",
       "      <td>30028786</td>\n",
       "    </tr>\n",
       "    <tr>\n",
       "      <th>1421</th>\n",
       "      <td>M32 southbound between M4 and J1</td>\n",
       "      <td>1421</td>\n",
       "      <td>30027527</td>\n",
       "    </tr>\n",
       "  </tbody>\n",
       "</table>\n",
       "</div>"
      ],
      "text/plain": [
       "                   MeasurementSiteName   MeasurementSiteID   \n",
       "242           M32 southbound within J1                 243  \\\n",
       "616   M32 northbound between J1 and M4                 616   \n",
       "834           M32 J1 southbound access                 834   \n",
       "1154  M32 southbound between J1 and J2                1154   \n",
       "1421  M32 southbound between M4 and J1                1421   \n",
       "\n",
       "       LegacyMeasurementSiteID  \n",
       "242                   30028797  \n",
       "616                   30027526  \n",
       "834                   30028799  \n",
       "1154                  30028786  \n",
       "1421                  30027527  "
      ]
     },
     "execution_count": 4,
     "metadata": {},
     "output_type": "execute_result"
    }
   ],
   "source": [
    "df=pd.read_csv(r\"C:\\Users\\vampi\\OneDrive\\Desktop\\Personal_ML_Projects\\ConversionTable.csv\")\n",
    "contain_values = df[df['MeasurementSiteName'].str.contains('M32')]\n",
    "contain_values.head()"
   ]
  },
  {
   "cell_type": "code",
   "execution_count": null,
   "metadata": {},
   "outputs": [],
   "source": []
  }
 ],
 "metadata": {
  "kernelspec": {
   "display_name": "Python 3",
   "language": "python",
   "name": "python3"
  },
  "language_info": {
   "codemirror_mode": {
    "name": "ipython",
    "version": 3
   },
   "file_extension": ".py",
   "mimetype": "text/x-python",
   "name": "python",
   "nbconvert_exporter": "python",
   "pygments_lexer": "ipython3",
   "version": "3.11.3"
  },
  "orig_nbformat": 4
 },
 "nbformat": 4,
 "nbformat_minor": 2
}
